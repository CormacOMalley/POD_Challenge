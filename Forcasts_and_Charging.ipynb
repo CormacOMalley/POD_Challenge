{
 "cells": [
  {
   "cell_type": "code",
   "execution_count": 5,
   "metadata": {},
   "outputs": [],
   "source": [
    "# A.isnull().values.any()\n",
    "# A[A.isnull().values]\n",
    "\n",
    "# pd.plotting.lag_plot(demand[2][0:10])\n",
    "\n",
    "#Demand\n",
    "# d = demand.drop(0)\n",
    "# d = d.drop(0, axis=1)\n",
    "# d.columns = [\"datetime\",\"demand_MW\"]\n",
    "# d[\"datetime\"] = pd.to_datetime(d[\"datetime\"])\n",
    "# d.index = d[\"datetime\"]\n",
    "# d = d.drop(\"datetime\", axis = 1)\n",
    "# d = d.astype('float64')\n",
    "# d = d.replace(0, 0.001)\n",
    "# d = d[d[\"demand_MW\"] > 0]\n",
    "# d\n",
    "# np.float64(d[2])\n",
    "# plt.figure()\n",
    "# d[0:48].plot()\n",
    "# d[48:96].plot()\n",
    "#\n",
    "#\n",
    "#"
   ]
  },
  {
   "cell_type": "code",
   "execution_count": 6,
   "metadata": {},
   "outputs": [
    {
     "ename": "NameError",
     "evalue": "name 'data' is not defined",
     "output_type": "error",
     "traceback": [
      "\u001b[0;31m---------------------------------------------------------------------------\u001b[0m",
      "\u001b[0;31mNameError\u001b[0m                                 Traceback (most recent call last)",
      "\u001b[0;32m<ipython-input-6-3f804ae3014d>\u001b[0m in \u001b[0;36m<module>\u001b[0;34m\u001b[0m\n\u001b[1;32m      2\u001b[0m \u001b[0;31m# st.weibull_min.fit(data, floc=0)\u001b[0m\u001b[0;34m\u001b[0m\u001b[0;34m\u001b[0m\u001b[0;34m\u001b[0m\u001b[0m\n\u001b[1;32m      3\u001b[0m \u001b[0;31m# st.norm.fit(data)\u001b[0m\u001b[0;34m\u001b[0m\u001b[0;34m\u001b[0m\u001b[0;34m\u001b[0m\u001b[0m\n\u001b[0;32m----> 4\u001b[0;31m \u001b[0mst\u001b[0m\u001b[0;34m.\u001b[0m\u001b[0mweibull_min\u001b[0m\u001b[0;34m.\u001b[0m\u001b[0mfit\u001b[0m\u001b[0;34m(\u001b[0m\u001b[0mdata\u001b[0m\u001b[0;34m)\u001b[0m\u001b[0;34m\u001b[0m\u001b[0;34m\u001b[0m\u001b[0m\n\u001b[0m",
      "\u001b[0;31mNameError\u001b[0m: name 'data' is not defined"
     ]
    }
   ],
   "source": [
    "# st.exponweib.fit(data, floc=0, f0=1)\n",
    "# st.weibull_min.fit(data, floc=0)\n",
    "# st.norm.fit(data)\n",
    "st.weibull_min.fit(data)"
   ]
  },
  {
   "cell_type": "code",
   "execution_count": 7,
   "metadata": {},
   "outputs": [
    {
     "ename": "NameError",
     "evalue": "name 'data' is not defined",
     "output_type": "error",
     "traceback": [
      "\u001b[0;31m---------------------------------------------------------------------------\u001b[0m",
      "\u001b[0;31mNameError\u001b[0m                                 Traceback (most recent call last)",
      "\u001b[0;32m<ipython-input-7-e0017206382c>\u001b[0m in \u001b[0;36m<module>\u001b[0;34m\u001b[0m\n\u001b[0;32m----> 1\u001b[0;31m \u001b[0mst\u001b[0m\u001b[0;34m.\u001b[0m\u001b[0mweibull_min\u001b[0m\u001b[0;34m.\u001b[0m\u001b[0mfit\u001b[0m\u001b[0;34m(\u001b[0m\u001b[0mdata\u001b[0m\u001b[0;34m,\u001b[0m\u001b[0mfloc\u001b[0m\u001b[0;34m=\u001b[0m\u001b[0;36m0\u001b[0m\u001b[0;34m)\u001b[0m\u001b[0;34m\u001b[0m\u001b[0;34m\u001b[0m\u001b[0m\n\u001b[0m",
      "\u001b[0;31mNameError\u001b[0m: name 'data' is not defined"
     ]
    }
   ],
   "source": [
    "st.weibull_min.fit(data,floc=0)"
   ]
  },
  {
   "cell_type": "code",
   "execution_count": 8,
   "metadata": {},
   "outputs": [
    {
     "ename": "NameError",
     "evalue": "name 'matplotlib' is not defined",
     "output_type": "error",
     "traceback": [
      "\u001b[0;31m---------------------------------------------------------------------------\u001b[0m",
      "\u001b[0;31mNameError\u001b[0m                                 Traceback (most recent call last)",
      "\u001b[0;32m<ipython-input-8-5ed5279f0f0b>\u001b[0m in \u001b[0;36m<module>\u001b[0;34m\u001b[0m\n\u001b[1;32m      2\u001b[0m \u001b[0;32mimport\u001b[0m \u001b[0mstatsmodels\u001b[0m \u001b[0;32mas\u001b[0m \u001b[0msm\u001b[0m\u001b[0;34m\u001b[0m\u001b[0;34m\u001b[0m\u001b[0m\n\u001b[1;32m      3\u001b[0m \u001b[0;32mimport\u001b[0m \u001b[0mmatplotlib\u001b[0m\u001b[0;34m.\u001b[0m\u001b[0mpyplot\u001b[0m \u001b[0;32mas\u001b[0m \u001b[0mplt\u001b[0m\u001b[0;34m\u001b[0m\u001b[0;34m\u001b[0m\u001b[0m\n\u001b[0;32m----> 4\u001b[0;31m \u001b[0mmatplotlib\u001b[0m\u001b[0;34m.\u001b[0m\u001b[0mrcParams\u001b[0m\u001b[0;34m[\u001b[0m\u001b[0;34m'figure.figsize'\u001b[0m\u001b[0;34m]\u001b[0m \u001b[0;34m=\u001b[0m \u001b[0;34m(\u001b[0m\u001b[0;36m16.0\u001b[0m\u001b[0;34m,\u001b[0m \u001b[0;36m12.0\u001b[0m\u001b[0;34m)\u001b[0m\u001b[0;34m\u001b[0m\u001b[0;34m\u001b[0m\u001b[0m\n\u001b[0m\u001b[1;32m      5\u001b[0m \u001b[0mmatplotlib\u001b[0m\u001b[0;34m.\u001b[0m\u001b[0mstyle\u001b[0m\u001b[0;34m.\u001b[0m\u001b[0muse\u001b[0m\u001b[0;34m(\u001b[0m\u001b[0;34m'ggplot'\u001b[0m\u001b[0;34m)\u001b[0m\u001b[0;34m\u001b[0m\u001b[0;34m\u001b[0m\u001b[0m\n\u001b[1;32m      6\u001b[0m \u001b[0;34m\u001b[0m\u001b[0m\n",
      "\u001b[0;31mNameError\u001b[0m: name 'matplotlib' is not defined"
     ]
    }
   ],
   "source": [
    "import scipy.stats as st\n",
    "import statsmodels as sm\n",
    "import matplotlib.pyplot as plt\n",
    "matplotlib.rcParams['figure.figsize'] = (16.0, 12.0)\n",
    "matplotlib.style.use('ggplot')\n",
    "\n",
    "data.plot(kind='hist', bins=50, density=True, alpha=0.5)"
   ]
  },
  {
   "cell_type": "code",
   "execution_count": 9,
   "metadata": {},
   "outputs": [
    {
     "ename": "NameError",
     "evalue": "name 'd_' is not defined",
     "output_type": "error",
     "traceback": [
      "\u001b[0;31m---------------------------------------------------------------------------\u001b[0m",
      "\u001b[0;31mNameError\u001b[0m                                 Traceback (most recent call last)",
      "\u001b[0;32m<ipython-input-9-8b74d27a7942>\u001b[0m in \u001b[0;36m<module>\u001b[0;34m\u001b[0m\n\u001b[0;32m----> 1\u001b[0;31m \u001b[0md_\u001b[0m\u001b[0;34m[\u001b[0m\u001b[0;34m'demand_MW'\u001b[0m\u001b[0;34m]\u001b[0m\u001b[0;34m.\u001b[0m\u001b[0mplot\u001b[0m\u001b[0;34m.\u001b[0m\u001b[0mdensity\u001b[0m\u001b[0;34m(\u001b[0m\u001b[0;34m)\u001b[0m\u001b[0;34m\u001b[0m\u001b[0;34m\u001b[0m\u001b[0m\n\u001b[0m",
      "\u001b[0;31mNameError\u001b[0m: name 'd_' is not defined"
     ]
    }
   ],
   "source": [
    "d_['demand_MW'].plot.density()"
   ]
  },
  {
   "cell_type": "code",
   "execution_count": 10,
   "metadata": {},
   "outputs": [
    {
     "ename": "FileNotFoundError",
     "evalue": "[Errno 2] No such file or directory: 'a.csv'",
     "output_type": "error",
     "traceback": [
      "\u001b[0;31m---------------------------------------------------------------------------\u001b[0m",
      "\u001b[0;31mFileNotFoundError\u001b[0m                         Traceback (most recent call last)",
      "\u001b[0;32m<ipython-input-10-975018304708>\u001b[0m in \u001b[0;36m<module>\u001b[0;34m\u001b[0m\n\u001b[1;32m      3\u001b[0m \u001b[0;34m\u001b[0m\u001b[0m\n\u001b[1;32m      4\u001b[0m \u001b[0;31m#Test week\u001b[0m\u001b[0;34m\u001b[0m\u001b[0;34m\u001b[0m\u001b[0;34m\u001b[0m\u001b[0m\n\u001b[0;32m----> 5\u001b[0;31m \u001b[0mweather\u001b[0m \u001b[0;34m=\u001b[0m \u001b[0mpd\u001b[0m\u001b[0;34m.\u001b[0m\u001b[0mread_csv\u001b[0m\u001b[0;34m(\u001b[0m\u001b[0;34m'a.csv'\u001b[0m\u001b[0;34m,\u001b[0m \u001b[0mindex_col\u001b[0m \u001b[0;34m=\u001b[0m\u001b[0;32mFalse\u001b[0m\u001b[0;34m,\u001b[0m \u001b[0mheader\u001b[0m\u001b[0;34m=\u001b[0m\u001b[0;32mNone\u001b[0m\u001b[0;34m)\u001b[0m\u001b[0;34m\u001b[0m\u001b[0;34m\u001b[0m\u001b[0m\n\u001b[0m\u001b[1;32m      6\u001b[0m \u001b[0msubmission\u001b[0m \u001b[0;34m=\u001b[0m \u001b[0mpd\u001b[0m\u001b[0;34m.\u001b[0m\u001b[0mread_csv\u001b[0m\u001b[0;34m(\u001b[0m\u001b[0;34m'b.csv'\u001b[0m\u001b[0;34m,\u001b[0m \u001b[0mindex_col\u001b[0m \u001b[0;34m=\u001b[0m\u001b[0;32mFalse\u001b[0m\u001b[0;34m,\u001b[0m \u001b[0mheader\u001b[0m\u001b[0;34m=\u001b[0m\u001b[0;32mNone\u001b[0m\u001b[0;34m)\u001b[0m\u001b[0;34m\u001b[0m\u001b[0;34m\u001b[0m\u001b[0m\n\u001b[1;32m      7\u001b[0m \u001b[0mPV\u001b[0m \u001b[0;34m=\u001b[0m \u001b[0mpd\u001b[0m\u001b[0;34m.\u001b[0m\u001b[0mread_csv\u001b[0m\u001b[0;34m(\u001b[0m\u001b[0;34m'c.csv'\u001b[0m\u001b[0;34m,\u001b[0m \u001b[0mindex_col\u001b[0m \u001b[0;34m=\u001b[0m\u001b[0;32mFalse\u001b[0m\u001b[0;34m,\u001b[0m \u001b[0mheader\u001b[0m\u001b[0;34m=\u001b[0m\u001b[0;32mNone\u001b[0m\u001b[0;34m)\u001b[0m\u001b[0;34m\u001b[0m\u001b[0;34m\u001b[0m\u001b[0m\n",
      "\u001b[0;32m/opt/anaconda3/lib/python3.8/site-packages/pandas/io/parsers.py\u001b[0m in \u001b[0;36mread_csv\u001b[0;34m(filepath_or_buffer, sep, delimiter, header, names, index_col, usecols, squeeze, prefix, mangle_dupe_cols, dtype, engine, converters, true_values, false_values, skipinitialspace, skiprows, skipfooter, nrows, na_values, keep_default_na, na_filter, verbose, skip_blank_lines, parse_dates, infer_datetime_format, keep_date_col, date_parser, dayfirst, cache_dates, iterator, chunksize, compression, thousands, decimal, lineterminator, quotechar, quoting, doublequote, escapechar, comment, encoding, dialect, error_bad_lines, warn_bad_lines, delim_whitespace, low_memory, memory_map, float_precision)\u001b[0m\n\u001b[1;32m    684\u001b[0m     )\n\u001b[1;32m    685\u001b[0m \u001b[0;34m\u001b[0m\u001b[0m\n\u001b[0;32m--> 686\u001b[0;31m     \u001b[0;32mreturn\u001b[0m \u001b[0m_read\u001b[0m\u001b[0;34m(\u001b[0m\u001b[0mfilepath_or_buffer\u001b[0m\u001b[0;34m,\u001b[0m \u001b[0mkwds\u001b[0m\u001b[0;34m)\u001b[0m\u001b[0;34m\u001b[0m\u001b[0;34m\u001b[0m\u001b[0m\n\u001b[0m\u001b[1;32m    687\u001b[0m \u001b[0;34m\u001b[0m\u001b[0m\n\u001b[1;32m    688\u001b[0m \u001b[0;34m\u001b[0m\u001b[0m\n",
      "\u001b[0;32m/opt/anaconda3/lib/python3.8/site-packages/pandas/io/parsers.py\u001b[0m in \u001b[0;36m_read\u001b[0;34m(filepath_or_buffer, kwds)\u001b[0m\n\u001b[1;32m    450\u001b[0m \u001b[0;34m\u001b[0m\u001b[0m\n\u001b[1;32m    451\u001b[0m     \u001b[0;31m# Create the parser.\u001b[0m\u001b[0;34m\u001b[0m\u001b[0;34m\u001b[0m\u001b[0;34m\u001b[0m\u001b[0m\n\u001b[0;32m--> 452\u001b[0;31m     \u001b[0mparser\u001b[0m \u001b[0;34m=\u001b[0m \u001b[0mTextFileReader\u001b[0m\u001b[0;34m(\u001b[0m\u001b[0mfp_or_buf\u001b[0m\u001b[0;34m,\u001b[0m \u001b[0;34m**\u001b[0m\u001b[0mkwds\u001b[0m\u001b[0;34m)\u001b[0m\u001b[0;34m\u001b[0m\u001b[0;34m\u001b[0m\u001b[0m\n\u001b[0m\u001b[1;32m    453\u001b[0m \u001b[0;34m\u001b[0m\u001b[0m\n\u001b[1;32m    454\u001b[0m     \u001b[0;32mif\u001b[0m \u001b[0mchunksize\u001b[0m \u001b[0;32mor\u001b[0m \u001b[0miterator\u001b[0m\u001b[0;34m:\u001b[0m\u001b[0;34m\u001b[0m\u001b[0;34m\u001b[0m\u001b[0m\n",
      "\u001b[0;32m/opt/anaconda3/lib/python3.8/site-packages/pandas/io/parsers.py\u001b[0m in \u001b[0;36m__init__\u001b[0;34m(self, f, engine, **kwds)\u001b[0m\n\u001b[1;32m    944\u001b[0m             \u001b[0mself\u001b[0m\u001b[0;34m.\u001b[0m\u001b[0moptions\u001b[0m\u001b[0;34m[\u001b[0m\u001b[0;34m\"has_index_names\"\u001b[0m\u001b[0;34m]\u001b[0m \u001b[0;34m=\u001b[0m \u001b[0mkwds\u001b[0m\u001b[0;34m[\u001b[0m\u001b[0;34m\"has_index_names\"\u001b[0m\u001b[0;34m]\u001b[0m\u001b[0;34m\u001b[0m\u001b[0;34m\u001b[0m\u001b[0m\n\u001b[1;32m    945\u001b[0m \u001b[0;34m\u001b[0m\u001b[0m\n\u001b[0;32m--> 946\u001b[0;31m         \u001b[0mself\u001b[0m\u001b[0;34m.\u001b[0m\u001b[0m_make_engine\u001b[0m\u001b[0;34m(\u001b[0m\u001b[0mself\u001b[0m\u001b[0;34m.\u001b[0m\u001b[0mengine\u001b[0m\u001b[0;34m)\u001b[0m\u001b[0;34m\u001b[0m\u001b[0;34m\u001b[0m\u001b[0m\n\u001b[0m\u001b[1;32m    947\u001b[0m \u001b[0;34m\u001b[0m\u001b[0m\n\u001b[1;32m    948\u001b[0m     \u001b[0;32mdef\u001b[0m \u001b[0mclose\u001b[0m\u001b[0;34m(\u001b[0m\u001b[0mself\u001b[0m\u001b[0;34m)\u001b[0m\u001b[0;34m:\u001b[0m\u001b[0;34m\u001b[0m\u001b[0;34m\u001b[0m\u001b[0m\n",
      "\u001b[0;32m/opt/anaconda3/lib/python3.8/site-packages/pandas/io/parsers.py\u001b[0m in \u001b[0;36m_make_engine\u001b[0;34m(self, engine)\u001b[0m\n\u001b[1;32m   1176\u001b[0m     \u001b[0;32mdef\u001b[0m \u001b[0m_make_engine\u001b[0m\u001b[0;34m(\u001b[0m\u001b[0mself\u001b[0m\u001b[0;34m,\u001b[0m \u001b[0mengine\u001b[0m\u001b[0;34m=\u001b[0m\u001b[0;34m\"c\"\u001b[0m\u001b[0;34m)\u001b[0m\u001b[0;34m:\u001b[0m\u001b[0;34m\u001b[0m\u001b[0;34m\u001b[0m\u001b[0m\n\u001b[1;32m   1177\u001b[0m         \u001b[0;32mif\u001b[0m \u001b[0mengine\u001b[0m \u001b[0;34m==\u001b[0m \u001b[0;34m\"c\"\u001b[0m\u001b[0;34m:\u001b[0m\u001b[0;34m\u001b[0m\u001b[0;34m\u001b[0m\u001b[0m\n\u001b[0;32m-> 1178\u001b[0;31m             \u001b[0mself\u001b[0m\u001b[0;34m.\u001b[0m\u001b[0m_engine\u001b[0m \u001b[0;34m=\u001b[0m \u001b[0mCParserWrapper\u001b[0m\u001b[0;34m(\u001b[0m\u001b[0mself\u001b[0m\u001b[0;34m.\u001b[0m\u001b[0mf\u001b[0m\u001b[0;34m,\u001b[0m \u001b[0;34m**\u001b[0m\u001b[0mself\u001b[0m\u001b[0;34m.\u001b[0m\u001b[0moptions\u001b[0m\u001b[0;34m)\u001b[0m\u001b[0;34m\u001b[0m\u001b[0;34m\u001b[0m\u001b[0m\n\u001b[0m\u001b[1;32m   1179\u001b[0m         \u001b[0;32melse\u001b[0m\u001b[0;34m:\u001b[0m\u001b[0;34m\u001b[0m\u001b[0;34m\u001b[0m\u001b[0m\n\u001b[1;32m   1180\u001b[0m             \u001b[0;32mif\u001b[0m \u001b[0mengine\u001b[0m \u001b[0;34m==\u001b[0m \u001b[0;34m\"python\"\u001b[0m\u001b[0;34m:\u001b[0m\u001b[0;34m\u001b[0m\u001b[0;34m\u001b[0m\u001b[0m\n",
      "\u001b[0;32m/opt/anaconda3/lib/python3.8/site-packages/pandas/io/parsers.py\u001b[0m in \u001b[0;36m__init__\u001b[0;34m(self, src, **kwds)\u001b[0m\n\u001b[1;32m   2006\u001b[0m         \u001b[0mkwds\u001b[0m\u001b[0;34m[\u001b[0m\u001b[0;34m\"usecols\"\u001b[0m\u001b[0;34m]\u001b[0m \u001b[0;34m=\u001b[0m \u001b[0mself\u001b[0m\u001b[0;34m.\u001b[0m\u001b[0musecols\u001b[0m\u001b[0;34m\u001b[0m\u001b[0;34m\u001b[0m\u001b[0m\n\u001b[1;32m   2007\u001b[0m \u001b[0;34m\u001b[0m\u001b[0m\n\u001b[0;32m-> 2008\u001b[0;31m         \u001b[0mself\u001b[0m\u001b[0;34m.\u001b[0m\u001b[0m_reader\u001b[0m \u001b[0;34m=\u001b[0m \u001b[0mparsers\u001b[0m\u001b[0;34m.\u001b[0m\u001b[0mTextReader\u001b[0m\u001b[0;34m(\u001b[0m\u001b[0msrc\u001b[0m\u001b[0;34m,\u001b[0m \u001b[0;34m**\u001b[0m\u001b[0mkwds\u001b[0m\u001b[0;34m)\u001b[0m\u001b[0;34m\u001b[0m\u001b[0;34m\u001b[0m\u001b[0m\n\u001b[0m\u001b[1;32m   2009\u001b[0m         \u001b[0mself\u001b[0m\u001b[0;34m.\u001b[0m\u001b[0munnamed_cols\u001b[0m \u001b[0;34m=\u001b[0m \u001b[0mself\u001b[0m\u001b[0;34m.\u001b[0m\u001b[0m_reader\u001b[0m\u001b[0;34m.\u001b[0m\u001b[0munnamed_cols\u001b[0m\u001b[0;34m\u001b[0m\u001b[0;34m\u001b[0m\u001b[0m\n\u001b[1;32m   2010\u001b[0m \u001b[0;34m\u001b[0m\u001b[0m\n",
      "\u001b[0;32mpandas/_libs/parsers.pyx\u001b[0m in \u001b[0;36mpandas._libs.parsers.TextReader.__cinit__\u001b[0;34m()\u001b[0m\n",
      "\u001b[0;32mpandas/_libs/parsers.pyx\u001b[0m in \u001b[0;36mpandas._libs.parsers.TextReader._setup_parser_source\u001b[0;34m()\u001b[0m\n",
      "\u001b[0;31mFileNotFoundError\u001b[0m: [Errno 2] No such file or directory: 'a.csv'"
     ]
    }
   ],
   "source": [
    "import numpy as np\n",
    "import pandas as pd\n",
    "\n",
    "#Test week\n",
    "weather = pd.read_csv('a.csv', index_col =False, header=None)\n",
    "submission = pd.read_csv('b.csv', index_col =False, header=None)\n",
    "PV = pd.read_csv('c.csv', index_col =False, header=None)\n",
    "demand = pd.read_csv('d.csv', index_col =False, header=None)\n",
    "\n",
    "#Week 1\n",
    "weather = pd.read_csv('week1/weather_train_set1.csv', index_col =False, header=None)\n",
    "submission = pd.read_csv('week1/teamname_set1.csv', index_col =False, header=None)\n",
    "PV = pd.read_csv('week1/pv_train_set1.csv', index_col =False, header=None)\n",
    "demand = pd.read_csv('week1/demand_train_set1.csv', index_col =False, header=None)"
   ]
  },
  {
   "cell_type": "code",
   "execution_count": null,
   "metadata": {},
   "outputs": [],
   "source": [
    "# demand = pd.read_csv('week1/demand_train_set1.csv', index_col =False, header=None)"
   ]
  },
  {
   "cell_type": "code",
   "execution_count": null,
   "metadata": {},
   "outputs": [],
   "source": [
    "# PV = pd.read_csv('c.csv', index_col =False, header=None)"
   ]
  },
  {
   "cell_type": "code",
   "execution_count": null,
   "metadata": {},
   "outputs": [],
   "source": [
    "#Demand\n",
    "d = demand\n",
    "d.columns = d.iloc[0].astype(str)\n",
    "d = d.drop(0)\n",
    "d[\"datetime\"] = pd.to_datetime(d[\"datetime\"])\n",
    "d = d.set_index('datetime')\n",
    "d = d.astype('float64')\n",
    "# d = d.replace(0, 0.001)\n",
    "\n",
    "#Weather\n",
    "w = weather\n",
    "w.columns = weather.iloc[0].astype(str)\n",
    "w = w.drop(0)\n",
    "w[\"datetime\"] = pd.to_datetime(w[\"datetime\"])\n",
    "w = w.set_index('datetime')\n",
    "w = w.astype('float64')\n",
    "\n",
    "#PV\n",
    "pv = PV\n",
    "pv.columns = pv.iloc[0].astype(str)\n",
    "pv = pv.drop(0)\n",
    "pv[\"datetime\"] = pd.to_datetime(pv[\"datetime\"])\n",
    "pv = pv.set_index('datetime')\n",
    "pv = pv.astype('float64')"
   ]
  },
  {
   "cell_type": "code",
   "execution_count": 11,
   "metadata": {},
   "outputs": [],
   "source": [
    "from sklearn.model_selection import TimeSeriesSplit\n",
    "from sklearn.model_selection import train_test_split\n",
    "from sklearn.model_selection import cross_val_score\n",
    "from sklearn.model_selection import TimeSeriesSplit\n",
    "from sklearn.ensemble import RandomForestRegressor\n",
    "from sklearn.model_selection import GridSearchCV\n",
    "from sklearn import preprocessing\n",
    "from sklearn.metrics import make_scorer\n",
    "from sklearn import metrics\n",
    "\n",
    "# y_train, y_test = train_test_split(y, shuffle=False)\n",
    "\n",
    "#Score functions\n",
    "def rmse(actual, predict):\n",
    "    predict = np.array(predict)\n",
    "    actual = np.array(actual)\n",
    "    distance = predict - actual\n",
    "    square_distance = distance ** 2\n",
    "    mean_square_distance = square_distance.mean()\n",
    "    score = np.sqrt(mean_square_distance)\n",
    "    return score\n",
    "rmse_score = make_scorer(rmse, greater_is_better = False)\n",
    "\n",
    "\n",
    "def regression_results(y_true, y_pred):\n",
    "    # Regression metrics\n",
    "    explained_variance=metrics.explained_variance_score(y_true, y_pred)\n",
    "    mean_absolute_error=metrics.mean_absolute_error(y_true, y_pred) \n",
    "    mse=metrics.mean_squared_error(y_true, y_pred) \n",
    "    mean_squared_log_error=metrics.mean_squared_log_error(y_true, y_pred)\n",
    "    median_absolute_error=metrics.median_absolute_error(y_true, y_pred)\n",
    "    r2=metrics.r2_score(y_true, y_pred)\n",
    "    print('explained_variance: ', round(explained_variance,4))    \n",
    "    print('mean_squared_log_error: ', round(mean_squared_log_error,4))\n",
    "    print('r2: ', round(r2,4))\n",
    "    print('MAE: ', round(mean_absolute_error,4))\n",
    "    print('MSE: ', round(mse,4))\n",
    "    print('RMSE: ', round(np.sqrt(mse),4))"
   ]
  },
  {
   "cell_type": "code",
   "execution_count": 12,
   "metadata": {},
   "outputs": [],
   "source": [
    "#Include holiday data\n",
    "import json\n",
    "import requests\n",
    "url = \"https://www.gov.uk/bank-holidays.json\"\n",
    "json_request = requests.get(url)\n",
    "python_dict = json_request.json()\n",
    "dfs = []\n",
    "for country, data in python_dict.items():\n",
    "    df = pd.DataFrame(data['events'])\n",
    "    df['Country'] = country\n",
    "    dfs.append(df)\n",
    "\n",
    "bank_hols = pd.concat(dfs, ignore_index=True)\n",
    "val_bank_hols = bank_hols[bank_hols['Country'] == 'england-and-wales']['date']"
   ]
  },
  {
   "cell_type": "code",
   "execution_count": 13,
   "metadata": {},
   "outputs": [
    {
     "ename": "NameError",
     "evalue": "name 'd' is not defined",
     "output_type": "error",
     "traceback": [
      "\u001b[0;31m---------------------------------------------------------------------------\u001b[0m",
      "\u001b[0;31mNameError\u001b[0m                                 Traceback (most recent call last)",
      "\u001b[0;32m<ipython-input-13-b5312022b523>\u001b[0m in \u001b[0;36m<module>\u001b[0;34m\u001b[0m\n\u001b[1;32m      1\u001b[0m \u001b[0;31m#Feature Engineering\u001b[0m\u001b[0;34m\u001b[0m\u001b[0;34m\u001b[0m\u001b[0;34m\u001b[0m\u001b[0m\n\u001b[0;32m----> 2\u001b[0;31m \u001b[0md_\u001b[0m \u001b[0;34m=\u001b[0m \u001b[0md\u001b[0m\u001b[0;34m[\u001b[0m\u001b[0;34m[\u001b[0m\u001b[0;34m'demand_MW'\u001b[0m\u001b[0;34m]\u001b[0m\u001b[0;34m]\u001b[0m\u001b[0;34m\u001b[0m\u001b[0;34m\u001b[0m\u001b[0m\n\u001b[0m\u001b[1;32m      3\u001b[0m \u001b[0md_\u001b[0m\u001b[0;34m.\u001b[0m\u001b[0mloc\u001b[0m\u001b[0;34m[\u001b[0m\u001b[0;34m:\u001b[0m\u001b[0;34m,\u001b[0m\u001b[0;34m't-1'\u001b[0m\u001b[0;34m]\u001b[0m \u001b[0;34m=\u001b[0m \u001b[0md_\u001b[0m\u001b[0;34m.\u001b[0m\u001b[0mloc\u001b[0m\u001b[0;34m[\u001b[0m\u001b[0;34m:\u001b[0m\u001b[0;34m,\u001b[0m\u001b[0;34m'demand_MW'\u001b[0m\u001b[0;34m]\u001b[0m\u001b[0;34m.\u001b[0m\u001b[0mshift\u001b[0m\u001b[0;34m(\u001b[0m\u001b[0;34m)\u001b[0m\u001b[0;34m\u001b[0m\u001b[0;34m\u001b[0m\u001b[0m\n\u001b[1;32m      4\u001b[0m \u001b[0md_\u001b[0m\u001b[0;34m.\u001b[0m\u001b[0mloc\u001b[0m\u001b[0;34m[\u001b[0m\u001b[0;34m:\u001b[0m\u001b[0;34m,\u001b[0m\u001b[0;34m't-1d'\u001b[0m\u001b[0;34m]\u001b[0m \u001b[0;34m=\u001b[0m \u001b[0md_\u001b[0m\u001b[0;34m.\u001b[0m\u001b[0mloc\u001b[0m\u001b[0;34m[\u001b[0m\u001b[0;34m:\u001b[0m\u001b[0;34m,\u001b[0m\u001b[0;34m't-1'\u001b[0m\u001b[0;34m]\u001b[0m\u001b[0;34m.\u001b[0m\u001b[0mdiff\u001b[0m\u001b[0;34m(\u001b[0m\u001b[0;34m)\u001b[0m\u001b[0;34m\u001b[0m\u001b[0;34m\u001b[0m\u001b[0m\n\u001b[1;32m      5\u001b[0m \u001b[0md_\u001b[0m\u001b[0;34m.\u001b[0m\u001b[0mloc\u001b[0m\u001b[0;34m[\u001b[0m\u001b[0;34m:\u001b[0m\u001b[0;34m,\u001b[0m\u001b[0;34m't-2'\u001b[0m\u001b[0;34m]\u001b[0m \u001b[0;34m=\u001b[0m \u001b[0md_\u001b[0m\u001b[0;34m.\u001b[0m\u001b[0mloc\u001b[0m\u001b[0;34m[\u001b[0m\u001b[0;34m:\u001b[0m\u001b[0;34m,\u001b[0m\u001b[0;34m't-1'\u001b[0m\u001b[0;34m]\u001b[0m\u001b[0;34m.\u001b[0m\u001b[0mshift\u001b[0m\u001b[0;34m(\u001b[0m\u001b[0;34m)\u001b[0m\u001b[0;34m\u001b[0m\u001b[0;34m\u001b[0m\u001b[0m\n",
      "\u001b[0;31mNameError\u001b[0m: name 'd' is not defined"
     ]
    }
   ],
   "source": [
    "#Feature Engineering\n",
    "d_ = d[['demand_MW']]\n",
    "d_.loc[:,'t-1'] = d_.loc[:,'demand_MW'].shift()\n",
    "d_.loc[:,'t-1d'] = d_.loc[:,'t-1'].diff()\n",
    "d_.loc[:,'t-2'] = d_.loc[:,'t-1'].shift()\n",
    "d_.loc[:,'t-3'] = d_.loc[:,'t-2'].shift()\n",
    "d_['week'] = d_.index.isocalendar().week\n",
    "d_['month'] = d_.index.month\n",
    "d_['year'] = d_.index.year\n",
    "d_['weekday'] = d_.index.weekday\n",
    "tod = pd.Series([(d_.index[i].hour*60 + d_.index[i].minute)/30 for i in range(len(d_.index))])\n",
    "tod.index = d_.index\n",
    "d_.loc[:,'tod'] = tod\n",
    "d_.loc[:,'quarter']  = d_.index.quarter\n",
    "d_['holiday'] = d_.index.isin(val_bank_hols)\n",
    "d_['holiday'] = d_['holiday'].astype('float64')\n",
    "d_ = d_.interpolate('ffill').dropna()\n",
    "\n",
    "#Define Train and test sets\n",
    "train_len = int(0.7*len(d_))\n",
    "test_len = len(d_) - train_len\n",
    "\n",
    "X_train = d_.iloc[0:train_len,:].drop(['demand_MW'],axis=1)\n",
    "X_test = d_.iloc[test_len:,:].drop(['demand_MW'],axis=1)\n",
    "y_train = d_.iloc[0:train_len]['demand_MW']\n",
    "y_test = d_.iloc[test_len:]['demand_MW']\n",
    "\n",
    "\n",
    "# X_train = d_[:'2017'].drop(['demand_MW'],axis=1)\n",
    "# X_test = d_.loc['2018'].drop(['demand_MW'],axis=1)\n",
    "# y_train = d_.loc['2017','demand_MW']\n",
    "# y_test = d_.loc['2018','demand_MW']\n",
    "\n",
    "#Preprocessing\n",
    "# min_max_scaler = preprocessing.MinMaxScaler()\n",
    "# X_train = min_max_scaler.fit_transform(X_train)\n",
    "# X_test = min_max_scaler.fit_transform(X_test)\n",
    "#year transformation\n",
    "#dayofyear, week\n",
    "# min_max_scaler = preprocessing.MinMaxScaler()\n",
    "# d_['year'] = pd.Series(pd.DataFrame(min_max_scaler.fit_transform(pd.DataFrame(d_['year'])),columns=['year']))"
   ]
  },
  {
   "cell_type": "code",
   "execution_count": null,
   "metadata": {},
   "outputs": [],
   "source": [
    "#demand model\n",
    "\n",
    "# model = RandomForestRegressor(n_estimators = 10, random_state=0)\n",
    "# tscv = TimeSeriesSplit(n_splits=10)\n",
    "# cv_results = cross_val_score(model, X_train, y_train, cv=tscv, scoring='r2')\n",
    "\n",
    "X_train = d_.drop(['demand_MW'],axis=1)\n",
    "y_train = d_['demand_MW']\n",
    "\n",
    "model = RandomForestRegressor()#oob_score=True)\n",
    "param_search = { \n",
    "    'n_estimators': [20, 50, 100],\n",
    "#     'n_estimators': [20, 50],\n",
    "    'max_features': ['auto', 'sqrt', 'log2'],\n",
    "    'max_depth' : [i for i in range(5,14)]\n",
    "}\n",
    "tscv = TimeSeriesSplit(n_splits=10)\n",
    "gsearch = GridSearchCV(estimator=model, cv=tscv, param_grid=param_search, scoring = rmse_score)\n",
    "# gsearch = GridSearchCV(estimator=model, cv=tscv, param_grid=param_search, scoring = metrics.mean_absolute_error)\n",
    "\n",
    "gsearch.fit(X_train, y_train)\n",
    "best_score = gsearch.best_score_\n",
    "best_model = gsearch.best_estimator_\n",
    "\n",
    "#Prediction\n",
    "y_true = y_test.values\n",
    "y_pred = best_model.predict(X_test)\n",
    "\n",
    "#Score comparison\n",
    "regression_results(y_true, y_pred)"
   ]
  },
  {
   "cell_type": "code",
   "execution_count": null,
   "metadata": {},
   "outputs": [],
   "source": [
    "best_score"
   ]
  },
  {
   "cell_type": "code",
   "execution_count": null,
   "metadata": {},
   "outputs": [],
   "source": [
    "1- best_model.oob_score_"
   ]
  },
  {
   "cell_type": "code",
   "execution_count": 14,
   "metadata": {},
   "outputs": [
    {
     "ename": "NameError",
     "evalue": "name 'best_model' is not defined",
     "output_type": "error",
     "traceback": [
      "\u001b[0;31m---------------------------------------------------------------------------\u001b[0m",
      "\u001b[0;31mNameError\u001b[0m                                 Traceback (most recent call last)",
      "\u001b[0;32m<ipython-input-14-f895f4df5e88>\u001b[0m in \u001b[0;36m<module>\u001b[0;34m\u001b[0m\n\u001b[1;32m      1\u001b[0m \u001b[0;31m#Feature importance\u001b[0m\u001b[0;34m\u001b[0m\u001b[0;34m\u001b[0m\u001b[0;34m\u001b[0m\u001b[0m\n\u001b[0;32m----> 2\u001b[0;31m \u001b[0mimp\u001b[0m \u001b[0;34m=\u001b[0m \u001b[0mbest_model\u001b[0m\u001b[0;34m.\u001b[0m\u001b[0mfeature_importances_\u001b[0m\u001b[0;34m\u001b[0m\u001b[0;34m\u001b[0m\u001b[0m\n\u001b[0m\u001b[1;32m      3\u001b[0m \u001b[0mfeatures\u001b[0m \u001b[0;34m=\u001b[0m \u001b[0mX_train\u001b[0m\u001b[0;34m.\u001b[0m\u001b[0mcolumns\u001b[0m\u001b[0;34m\u001b[0m\u001b[0;34m\u001b[0m\u001b[0m\n\u001b[1;32m      4\u001b[0m \u001b[0mindices\u001b[0m \u001b[0;34m=\u001b[0m \u001b[0mnp\u001b[0m\u001b[0;34m.\u001b[0m\u001b[0margsort\u001b[0m\u001b[0;34m(\u001b[0m\u001b[0mimp\u001b[0m\u001b[0;34m)\u001b[0m\u001b[0;34m\u001b[0m\u001b[0;34m\u001b[0m\u001b[0m\n\u001b[1;32m      5\u001b[0m \u001b[0;34m\u001b[0m\u001b[0m\n",
      "\u001b[0;31mNameError\u001b[0m: name 'best_model' is not defined"
     ]
    }
   ],
   "source": [
    "#Feature importance\n",
    "imp = best_model.feature_importances_\n",
    "features = X_train.columns\n",
    "indices = np.argsort(imp)\n",
    "\n",
    "import matplotlib.pyplot as plt\n",
    "plt.title('Feature Importances')\n",
    "plt.barh(range(len(indices)), imp[indices], color='b', align='center')\n",
    "plt.yticks(range(len(indices)), [features[i] for i in indices])\n",
    "plt.xlabel('Relative Importance')\n",
    "plt.show()"
   ]
  },
  {
   "cell_type": "code",
   "execution_count": 15,
   "metadata": {},
   "outputs": [
    {
     "ename": "NameError",
     "evalue": "name 'd_' is not defined",
     "output_type": "error",
     "traceback": [
      "\u001b[0;31m---------------------------------------------------------------------------\u001b[0m",
      "\u001b[0;31mNameError\u001b[0m                                 Traceback (most recent call last)",
      "\u001b[0;32m<ipython-input-15-5dd62819f3c1>\u001b[0m in \u001b[0;36m<module>\u001b[0;34m\u001b[0m\n\u001b[1;32m      1\u001b[0m \u001b[0;31m#Demand Forecast\u001b[0m\u001b[0;34m\u001b[0m\u001b[0;34m\u001b[0m\u001b[0;34m\u001b[0m\u001b[0m\n\u001b[0;32m----> 2\u001b[0;31m \u001b[0mdemand_prediction\u001b[0m \u001b[0;34m=\u001b[0m \u001b[0md_\u001b[0m\u001b[0;34m.\u001b[0m\u001b[0miloc\u001b[0m\u001b[0;34m[\u001b[0m\u001b[0;34m[\u001b[0m\u001b[0;34m-\u001b[0m\u001b[0;36m1\u001b[0m\u001b[0;34m]\u001b[0m\u001b[0;34m,\u001b[0m\u001b[0;34m:\u001b[0m\u001b[0;34m]\u001b[0m\u001b[0;34m.\u001b[0m\u001b[0mdrop\u001b[0m\u001b[0;34m(\u001b[0m\u001b[0;34m[\u001b[0m\u001b[0;34m't-3'\u001b[0m\u001b[0;34m]\u001b[0m\u001b[0;34m,\u001b[0m\u001b[0maxis\u001b[0m\u001b[0;34m=\u001b[0m\u001b[0;36m1\u001b[0m\u001b[0;34m)\u001b[0m\u001b[0;34m\u001b[0m\u001b[0;34m\u001b[0m\u001b[0m\n\u001b[0m\u001b[1;32m      3\u001b[0m \u001b[0mcols\u001b[0m \u001b[0;34m=\u001b[0m \u001b[0mlist\u001b[0m\u001b[0;34m(\u001b[0m\u001b[0mdemand_prediction\u001b[0m\u001b[0;34m)\u001b[0m\u001b[0;34m\u001b[0m\u001b[0;34m\u001b[0m\u001b[0m\n\u001b[1;32m      4\u001b[0m \u001b[0mcols\u001b[0m\u001b[0;34m[\u001b[0m\u001b[0;36m1\u001b[0m\u001b[0;34m]\u001b[0m\u001b[0;34m,\u001b[0m \u001b[0mcols\u001b[0m\u001b[0;34m[\u001b[0m\u001b[0;36m2\u001b[0m\u001b[0;34m]\u001b[0m \u001b[0;34m=\u001b[0m \u001b[0mcols\u001b[0m\u001b[0;34m[\u001b[0m\u001b[0;36m2\u001b[0m\u001b[0;34m]\u001b[0m\u001b[0;34m,\u001b[0m \u001b[0mcols\u001b[0m\u001b[0;34m[\u001b[0m\u001b[0;36m1\u001b[0m\u001b[0;34m]\u001b[0m\u001b[0;34m\u001b[0m\u001b[0;34m\u001b[0m\u001b[0m\n\u001b[1;32m      5\u001b[0m \u001b[0mdemand_prediction\u001b[0m \u001b[0;34m=\u001b[0m \u001b[0mdemand_prediction\u001b[0m\u001b[0;34m[\u001b[0m\u001b[0mcols\u001b[0m\u001b[0;34m]\u001b[0m\u001b[0;34m\u001b[0m\u001b[0;34m\u001b[0m\u001b[0m\n",
      "\u001b[0;31mNameError\u001b[0m: name 'd_' is not defined"
     ]
    }
   ],
   "source": [
    "#Demand Forecast\n",
    "demand_prediction = d_.iloc[[-1],:].drop(['t-3'],axis=1)\n",
    "cols = list(demand_prediction)\n",
    "cols[1], cols[2] = cols[2], cols[1]\n",
    "demand_prediction = demand_prediction[cols]\n",
    "demand_prediction.columns = X_train.columns\n",
    "old_demand_1 = demand_prediction['t-1'].iloc[-1]\n",
    "old_demand_2 = demand_prediction['t-2'].iloc[-1]\n",
    "# old_demand_3 = prediction['t-2'].iloc[-1]\n",
    "for i in range(337):\n",
    "\n",
    "    c = pd.to_datetime(demand_prediction.index + pd.Timedelta(hours=0.5))\n",
    "    \n",
    "    x = best_model.predict(pd.DataFrame(demand_prediction.iloc[-1]).T)\n",
    "    new_df = pd.DataFrame([x[0],x[0]-old_demand_1,old_demand_1,old_demand_2,\n",
    "                           c.isocalendar().week[i],c.month[i],c.year[i],c.weekday[i],\n",
    "                           (c.hour[i]*60 + c.minute[i])/30,c.quarter[i],np.any(c[i] == val_bank_hols).astype('float64')]).T\n",
    "    new_df.index = pd.DataFrame(c).iloc[i]\n",
    "    new_df.columns = demand_prediction.columns\n",
    "    demand_prediction = pd.concat([demand_prediction,new_df])\n",
    "    old_demand_1 = demand_prediction['t-1'].iloc[-1]\n",
    "    old_demand_2 = demand_prediction['t-2'].iloc[-1]\n",
    "#     old_demand_3 = prediction['t-3'].iloc[-1]\n",
    "\n",
    "demand_prediction"
   ]
  },
  {
   "cell_type": "code",
   "execution_count": null,
   "metadata": {},
   "outputs": [],
   "source": []
  },
  {
   "cell_type": "code",
   "execution_count": 16,
   "metadata": {},
   "outputs": [
    {
     "ename": "NameError",
     "evalue": "name 'demand_prediction' is not defined",
     "output_type": "error",
     "traceback": [
      "\u001b[0;31m---------------------------------------------------------------------------\u001b[0m",
      "\u001b[0;31mNameError\u001b[0m                                 Traceback (most recent call last)",
      "\u001b[0;32m<ipython-input-16-39d74b7bdc52>\u001b[0m in \u001b[0;36m<module>\u001b[0;34m\u001b[0m\n\u001b[0;32m----> 1\u001b[0;31m \u001b[0mdemand_prediction\u001b[0m \u001b[0;34m=\u001b[0m \u001b[0mdemand_prediction\u001b[0m\u001b[0;34m[\u001b[0m\u001b[0;34m'2018-10-16'\u001b[0m\u001b[0;34m:\u001b[0m\u001b[0;34m'2018-10-22'\u001b[0m\u001b[0;34m]\u001b[0m\u001b[0;34m\u001b[0m\u001b[0;34m\u001b[0m\u001b[0m\n\u001b[0m\u001b[1;32m      2\u001b[0m \u001b[0mdemand_prediction\u001b[0m\u001b[0;34m[\u001b[0m\u001b[0;34m't-1'\u001b[0m\u001b[0;34m]\u001b[0m\u001b[0;34m.\u001b[0m\u001b[0mto_excel\u001b[0m\u001b[0;34m(\u001b[0m\u001b[0;34m\"week1-demand.xlsx\"\u001b[0m\u001b[0;34m)\u001b[0m\u001b[0;34m\u001b[0m\u001b[0;34m\u001b[0m\u001b[0m\n",
      "\u001b[0;31mNameError\u001b[0m: name 'demand_prediction' is not defined"
     ]
    }
   ],
   "source": [
    "demand_prediction = demand_prediction['2018-10-16':'2018-10-22']\n",
    "demand_prediction['t-1'].to_excel(\"week1-demand.xlsx\")  "
   ]
  },
  {
   "cell_type": "code",
   "execution_count": 17,
   "metadata": {},
   "outputs": [],
   "source": [
    "# pd.concat([demand_prediction['t-1']['2018-07-23']*0.95,d['2018-07-23'],demand_prediction['t-1']['2018-07-23']*1.05],axis = 1)"
   ]
  },
  {
   "cell_type": "code",
   "execution_count": 51,
   "metadata": {},
   "outputs": [],
   "source": [
    "# demand_prediction['t-1']['2018-07-23'] + 2*err"
   ]
  },
  {
   "cell_type": "code",
   "execution_count": 50,
   "metadata": {},
   "outputs": [],
   "source": [
    "# d['2018-07-23']"
   ]
  },
  {
   "cell_type": "code",
   "execution_count": 49,
   "metadata": {},
   "outputs": [],
   "source": [
    "err = 1- best_model.oob_score_  \n",
    "# demand_prediction['t-1']['2018-07-23']- 2*err"
   ]
  },
  {
   "cell_type": "code",
   "execution_count": 77,
   "metadata": {},
   "outputs": [],
   "source": [
    "# np.std(d_['demand_MW'])*2/np.sqrt(len(d_['demand_MW']))"
   ]
  },
  {
   "cell_type": "code",
   "execution_count": 42,
   "metadata": {},
   "outputs": [
    {
     "name": "stdout",
     "output_type": "stream",
     "text": [
      "explained_variance:  0.9382\n",
      "mean_squared_log_error:  0.0017\n",
      "r2:  0.9352\n",
      "MAE:  0.1159\n",
      "MSE:  0.0198\n",
      "RMSE:  0.1407\n"
     ]
    }
   ],
   "source": [
    "regression_results(d['2018-07-23'], demand_prediction['t-1']['2018-07-23'])\n",
    "# d['2018-07-23']"
   ]
  },
  {
   "cell_type": "code",
   "execution_count": 66,
   "metadata": {},
   "outputs": [],
   "source": [
    "# demand_prediction['t-1']['2018-07-23'] + np.std(d_['demand_MW'])/np.sqrt(len(d_['demand_MW']))"
   ]
  },
  {
   "cell_type": "code",
   "execution_count": 65,
   "metadata": {},
   "outputs": [],
   "source": [
    "# demand_prediction['t-1']['2018-07-23'] - np.std(d_['demand_MW'])/np.sqrt(len(d_['demand_MW']))"
   ]
  },
  {
   "cell_type": "code",
   "execution_count": 56,
   "metadata": {},
   "outputs": [],
   "source": [
    "pv = PV\n",
    "pv.columns = pv.iloc[0].astype(str)\n",
    "pv = pv.drop(0)\n",
    "pv[\"datetime\"] = pd.to_datetime(pv[\"datetime\"])\n",
    "pv = pv.set_index('datetime')\n",
    "pv = pv.astype('float64')"
   ]
  },
  {
   "cell_type": "code",
   "execution_count": 107,
   "metadata": {},
   "outputs": [],
   "source": [
    "pv_forecast = w['2017-11-03':'2018-10-16 00:00']"
   ]
  },
  {
   "cell_type": "code",
   "execution_count": 362,
   "metadata": {},
   "outputs": [
    {
     "data": {
      "text/html": [
       "<div>\n",
       "<style scoped>\n",
       "    .dataframe tbody tr th:only-of-type {\n",
       "        vertical-align: middle;\n",
       "    }\n",
       "\n",
       "    .dataframe tbody tr th {\n",
       "        vertical-align: top;\n",
       "    }\n",
       "\n",
       "    .dataframe thead th {\n",
       "        text-align: right;\n",
       "    }\n",
       "</style>\n",
       "<table border=\"1\" class=\"dataframe\">\n",
       "  <thead>\n",
       "    <tr style=\"text-align: right;\">\n",
       "      <th></th>\n",
       "      <th>temp_location3</th>\n",
       "      <th>temp_location6</th>\n",
       "      <th>temp_location2</th>\n",
       "      <th>temp_location4</th>\n",
       "      <th>temp_location5</th>\n",
       "      <th>temp_location1</th>\n",
       "      <th>solar_location3</th>\n",
       "      <th>solar_location6</th>\n",
       "      <th>solar_location2</th>\n",
       "      <th>solar_location4</th>\n",
       "      <th>solar_location5</th>\n",
       "      <th>solar_location1</th>\n",
       "    </tr>\n",
       "    <tr>\n",
       "      <th>datetime</th>\n",
       "      <th></th>\n",
       "      <th></th>\n",
       "      <th></th>\n",
       "      <th></th>\n",
       "      <th></th>\n",
       "      <th></th>\n",
       "      <th></th>\n",
       "      <th></th>\n",
       "      <th></th>\n",
       "      <th></th>\n",
       "      <th></th>\n",
       "      <th></th>\n",
       "    </tr>\n",
       "  </thead>\n",
       "  <tbody>\n",
       "    <tr>\n",
       "      <th>2017-11-03 00:00:00</th>\n",
       "      <td>7.46</td>\n",
       "      <td>13.20</td>\n",
       "      <td>9.64</td>\n",
       "      <td>6.68</td>\n",
       "      <td>13.09</td>\n",
       "      <td>8.56</td>\n",
       "      <td>0.0</td>\n",
       "      <td>0.0</td>\n",
       "      <td>0.0</td>\n",
       "      <td>0.0</td>\n",
       "      <td>0.0</td>\n",
       "      <td>0.0</td>\n",
       "    </tr>\n",
       "    <tr>\n",
       "      <th>2017-11-03 01:00:00</th>\n",
       "      <td>7.14</td>\n",
       "      <td>13.32</td>\n",
       "      <td>9.71</td>\n",
       "      <td>6.27</td>\n",
       "      <td>13.21</td>\n",
       "      <td>8.69</td>\n",
       "      <td>0.0</td>\n",
       "      <td>0.0</td>\n",
       "      <td>0.0</td>\n",
       "      <td>0.0</td>\n",
       "      <td>0.0</td>\n",
       "      <td>0.0</td>\n",
       "    </tr>\n",
       "    <tr>\n",
       "      <th>2017-11-03 02:00:00</th>\n",
       "      <td>6.86</td>\n",
       "      <td>13.36</td>\n",
       "      <td>9.73</td>\n",
       "      <td>5.91</td>\n",
       "      <td>13.30</td>\n",
       "      <td>8.74</td>\n",
       "      <td>0.0</td>\n",
       "      <td>0.0</td>\n",
       "      <td>0.0</td>\n",
       "      <td>0.0</td>\n",
       "      <td>0.0</td>\n",
       "      <td>0.0</td>\n",
       "    </tr>\n",
       "    <tr>\n",
       "      <th>2017-11-03 03:00:00</th>\n",
       "      <td>6.60</td>\n",
       "      <td>13.47</td>\n",
       "      <td>9.81</td>\n",
       "      <td>5.60</td>\n",
       "      <td>13.38</td>\n",
       "      <td>8.84</td>\n",
       "      <td>0.0</td>\n",
       "      <td>0.0</td>\n",
       "      <td>0.0</td>\n",
       "      <td>0.0</td>\n",
       "      <td>0.0</td>\n",
       "      <td>0.0</td>\n",
       "    </tr>\n",
       "    <tr>\n",
       "      <th>2017-11-03 04:00:00</th>\n",
       "      <td>6.86</td>\n",
       "      <td>13.62</td>\n",
       "      <td>9.89</td>\n",
       "      <td>5.37</td>\n",
       "      <td>13.47</td>\n",
       "      <td>8.95</td>\n",
       "      <td>0.0</td>\n",
       "      <td>0.0</td>\n",
       "      <td>0.0</td>\n",
       "      <td>0.0</td>\n",
       "      <td>0.0</td>\n",
       "      <td>0.0</td>\n",
       "    </tr>\n",
       "    <tr>\n",
       "      <th>...</th>\n",
       "      <td>...</td>\n",
       "      <td>...</td>\n",
       "      <td>...</td>\n",
       "      <td>...</td>\n",
       "      <td>...</td>\n",
       "      <td>...</td>\n",
       "      <td>...</td>\n",
       "      <td>...</td>\n",
       "      <td>...</td>\n",
       "      <td>...</td>\n",
       "      <td>...</td>\n",
       "      <td>...</td>\n",
       "    </tr>\n",
       "    <tr>\n",
       "      <th>2018-10-15 20:00:00</th>\n",
       "      <td>10.69</td>\n",
       "      <td>14.78</td>\n",
       "      <td>12.14</td>\n",
       "      <td>10.78</td>\n",
       "      <td>13.76</td>\n",
       "      <td>11.24</td>\n",
       "      <td>0.0</td>\n",
       "      <td>0.0</td>\n",
       "      <td>0.0</td>\n",
       "      <td>0.0</td>\n",
       "      <td>0.0</td>\n",
       "      <td>0.0</td>\n",
       "    </tr>\n",
       "    <tr>\n",
       "      <th>2018-10-15 21:00:00</th>\n",
       "      <td>10.86</td>\n",
       "      <td>14.92</td>\n",
       "      <td>12.36</td>\n",
       "      <td>10.80</td>\n",
       "      <td>13.86</td>\n",
       "      <td>11.15</td>\n",
       "      <td>0.0</td>\n",
       "      <td>0.0</td>\n",
       "      <td>0.0</td>\n",
       "      <td>0.0</td>\n",
       "      <td>0.0</td>\n",
       "      <td>0.0</td>\n",
       "    </tr>\n",
       "    <tr>\n",
       "      <th>2018-10-15 22:00:00</th>\n",
       "      <td>10.95</td>\n",
       "      <td>14.95</td>\n",
       "      <td>12.49</td>\n",
       "      <td>11.11</td>\n",
       "      <td>13.98</td>\n",
       "      <td>11.33</td>\n",
       "      <td>0.0</td>\n",
       "      <td>0.0</td>\n",
       "      <td>0.0</td>\n",
       "      <td>0.0</td>\n",
       "      <td>0.0</td>\n",
       "      <td>0.0</td>\n",
       "    </tr>\n",
       "    <tr>\n",
       "      <th>2018-10-15 23:00:00</th>\n",
       "      <td>11.15</td>\n",
       "      <td>14.90</td>\n",
       "      <td>12.53</td>\n",
       "      <td>11.12</td>\n",
       "      <td>14.14</td>\n",
       "      <td>11.53</td>\n",
       "      <td>0.0</td>\n",
       "      <td>0.0</td>\n",
       "      <td>0.0</td>\n",
       "      <td>0.0</td>\n",
       "      <td>0.0</td>\n",
       "      <td>0.0</td>\n",
       "    </tr>\n",
       "    <tr>\n",
       "      <th>2018-10-16 00:00:00</th>\n",
       "      <td>11.65</td>\n",
       "      <td>14.87</td>\n",
       "      <td>12.67</td>\n",
       "      <td>11.45</td>\n",
       "      <td>14.19</td>\n",
       "      <td>11.74</td>\n",
       "      <td>0.0</td>\n",
       "      <td>0.0</td>\n",
       "      <td>0.0</td>\n",
       "      <td>0.0</td>\n",
       "      <td>0.0</td>\n",
       "      <td>0.0</td>\n",
       "    </tr>\n",
       "  </tbody>\n",
       "</table>\n",
       "<p>8329 rows × 12 columns</p>\n",
       "</div>"
      ],
      "text/plain": [
       "0                    temp_location3  temp_location6  temp_location2  \\\n",
       "datetime                                                              \n",
       "2017-11-03 00:00:00            7.46           13.20            9.64   \n",
       "2017-11-03 01:00:00            7.14           13.32            9.71   \n",
       "2017-11-03 02:00:00            6.86           13.36            9.73   \n",
       "2017-11-03 03:00:00            6.60           13.47            9.81   \n",
       "2017-11-03 04:00:00            6.86           13.62            9.89   \n",
       "...                             ...             ...             ...   \n",
       "2018-10-15 20:00:00           10.69           14.78           12.14   \n",
       "2018-10-15 21:00:00           10.86           14.92           12.36   \n",
       "2018-10-15 22:00:00           10.95           14.95           12.49   \n",
       "2018-10-15 23:00:00           11.15           14.90           12.53   \n",
       "2018-10-16 00:00:00           11.65           14.87           12.67   \n",
       "\n",
       "0                    temp_location4  temp_location5  temp_location1  \\\n",
       "datetime                                                              \n",
       "2017-11-03 00:00:00            6.68           13.09            8.56   \n",
       "2017-11-03 01:00:00            6.27           13.21            8.69   \n",
       "2017-11-03 02:00:00            5.91           13.30            8.74   \n",
       "2017-11-03 03:00:00            5.60           13.38            8.84   \n",
       "2017-11-03 04:00:00            5.37           13.47            8.95   \n",
       "...                             ...             ...             ...   \n",
       "2018-10-15 20:00:00           10.78           13.76           11.24   \n",
       "2018-10-15 21:00:00           10.80           13.86           11.15   \n",
       "2018-10-15 22:00:00           11.11           13.98           11.33   \n",
       "2018-10-15 23:00:00           11.12           14.14           11.53   \n",
       "2018-10-16 00:00:00           11.45           14.19           11.74   \n",
       "\n",
       "0                    solar_location3  solar_location6  solar_location2  \\\n",
       "datetime                                                                 \n",
       "2017-11-03 00:00:00              0.0              0.0              0.0   \n",
       "2017-11-03 01:00:00              0.0              0.0              0.0   \n",
       "2017-11-03 02:00:00              0.0              0.0              0.0   \n",
       "2017-11-03 03:00:00              0.0              0.0              0.0   \n",
       "2017-11-03 04:00:00              0.0              0.0              0.0   \n",
       "...                              ...              ...              ...   \n",
       "2018-10-15 20:00:00              0.0              0.0              0.0   \n",
       "2018-10-15 21:00:00              0.0              0.0              0.0   \n",
       "2018-10-15 22:00:00              0.0              0.0              0.0   \n",
       "2018-10-15 23:00:00              0.0              0.0              0.0   \n",
       "2018-10-16 00:00:00              0.0              0.0              0.0   \n",
       "\n",
       "0                    solar_location4  solar_location5  solar_location1  \n",
       "datetime                                                                \n",
       "2017-11-03 00:00:00              0.0              0.0              0.0  \n",
       "2017-11-03 01:00:00              0.0              0.0              0.0  \n",
       "2017-11-03 02:00:00              0.0              0.0              0.0  \n",
       "2017-11-03 03:00:00              0.0              0.0              0.0  \n",
       "2017-11-03 04:00:00              0.0              0.0              0.0  \n",
       "...                              ...              ...              ...  \n",
       "2018-10-15 20:00:00              0.0              0.0              0.0  \n",
       "2018-10-15 21:00:00              0.0              0.0              0.0  \n",
       "2018-10-15 22:00:00              0.0              0.0              0.0  \n",
       "2018-10-15 23:00:00              0.0              0.0              0.0  \n",
       "2018-10-16 00:00:00              0.0              0.0              0.0  \n",
       "\n",
       "[8329 rows x 12 columns]"
      ]
     },
     "execution_count": 362,
     "metadata": {},
     "output_type": "execute_result"
    }
   ],
   "source": [
    "w['2017-11-03':'2018-10-16 00:00']"
   ]
  },
  {
   "cell_type": "code",
   "execution_count": 376,
   "metadata": {},
   "outputs": [],
   "source": [
    "# interpolate weather data and make sure dimension/timstep tallies with pv data\n",
    "even_ = np.array(list(range(2*len(pv_forecast)))[0::2])\n",
    "odd_ = np.array(list(range(2*len(pv_forecast)))[1::2])\n",
    "temp_index = d['2017-11-03':'2018-10-16 00:00'].index\n",
    "\n",
    "pv_forecast = w['2017-11-03':'2018-10-16 00:00']\n",
    "pv_forecast.index = even_\n",
    "\n",
    "# interpolate weather data for prediction\n",
    "\n",
    "df_c = pd.DataFrame(pv_forecast.iloc[0]).T\n",
    "\n",
    "for i in range(len(pv_forecast)-1):\n",
    "    if(i == len(pv_forecast)):\n",
    "        df = pd.DataFrame((pv_forecast.iloc[i])).T\n",
    "    else:   \n",
    "        df = pd.DataFrame((pv_forecast.iloc[i] + pv_forecast.iloc[i+1])/2).T\n",
    "        df.columns = pv_forecast.columns\n",
    "    df_c = pd.concat([df_c,df])\n",
    "\n",
    "df_c.index = odd_ \n",
    "#Remove first row\n",
    "df_c = df_c.drop(df_c.index[0])   \n",
    "#reorder index\n",
    "odd_ = np.array(list(range(2*len(df_c)))[1::2]) \n",
    "df_c.index = odd_  \n",
    "# df_c = df_c.drop(df_c.index[-1]) \n",
    "w_forecast = pd.concat([pv_forecast,df_c]).sort_index()\n",
    "w_forecast = w_forecast.drop(w_forecast.index[-1])\n",
    "w_forecast.index = temp_index"
   ]
  },
  {
   "cell_type": "code",
   "execution_count": 383,
   "metadata": {},
   "outputs": [
    {
     "name": "stdout",
     "output_type": "stream",
     "text": [
      "explained_variance:  0.8553\n",
      "mean_squared_log_error:  0.0324\n",
      "r2:  0.8552\n",
      "MAE:  0.237\n",
      "MSE:  0.1864\n",
      "RMSE:  0.4317\n"
     ]
    }
   ],
   "source": [
    "#PV projection from weather data and historical PV\n",
    "pv = pd.DataFrame(pv['pv_power_mw'])\n",
    "# pv = pv[['pv_power_mw','panel_temp_C']]\n",
    "# pv.loc[:,'t-1'] = pv.loc[:,'pv_power_mw'].shift()\n",
    "# pv.loc[:,'t-1d'] = pv.loc[:,'t-1'].diff()\n",
    "# pv.loc[:,'t-2'] = pv.loc[:,'t-1'].shift()\n",
    "# pv.loc[:,'t-3'] = pv.loc[:,'t-2'].shift()\n",
    "pv['month'] = pv.index.month\n",
    "pv['year'] = pv.index.year\n",
    "pv['weekday'] = pv.index.weekday\n",
    "tod = pd.Series([(pv.index[i].hour*60 + pv.index[i].minute)/30 for i in range(len(pv.index))])\n",
    "tod.index = pv.index\n",
    "pv.loc[:,'tod'] = tod\n",
    "pv.loc[:,'quarter']  = pv.index.quarter\n",
    "pv['week'] = pv.index.isocalendar().week\n",
    "\n",
    "#combine pv with weather data, then interpolate data\n",
    "w_forecast['s_sum'] = (w_forecast['solar_location3'] + w_forecast['solar_location1'] + \n",
    "                     w_forecast['solar_location2']+ w_forecast['solar_location4'] + \n",
    "                     w_forecast['solar_location6'] + w_forecast['solar_location5'])\n",
    "\n",
    "w_forecast['t_sum'] = (w_forecast['temp_location3'] + w_forecast['temp_location1'] + \n",
    "                     w_forecast['temp_location2']+ w_forecast['temp_location4'] + \n",
    "                     w_forecast['temp_location6'] + w_forecast['temp_location5'])\n",
    "\n",
    "pv = pd.concat([pv,w_forecast['s_sum'],w_forecast['t_sum'],\n",
    "                w_forecast[['temp_location3','temp_location6','temp_location2',\n",
    "                            'temp_location4','temp_location5','temp_location1']],\n",
    "                w_forecast[['solar_location3','solar_location6','solar_location2',\n",
    "                            'solar_location4','solar_location5','solar_location1']]\n",
    "               ],axis=1)\n",
    "\n",
    "\n",
    "pv = pv.interpolate(method='ffill').dropna()\n",
    "train_len = int(0.7*len(pv))\n",
    "test_len = len(pv) - train_len\n",
    "\n",
    "\n",
    "#Define Train and test sets\n",
    "# X_train = pv.iloc[0:train_len,:].drop(['pv_power_mw'],axis=1)\n",
    "# y_train = pv.iloc[0:train_len]['pv_power_mw']\n",
    "X_train = pv.drop(['pv_power_mw'],axis=1)\n",
    "y_train = pv['pv_power_mw']\n",
    "\n",
    "\n",
    "X_test = pv.iloc[test_len:,:].drop(['pv_power_mw'],axis=1)\n",
    "y_test = pv.iloc[test_len:]['pv_power_mw']\n",
    "\n",
    "#Define model\n",
    "model = RandomForestRegressor()\n",
    "param_search = { \n",
    "    'n_estimators': [20, 50,100],\n",
    "    'max_features': ['auto', 'sqrt', 'log2'],\n",
    "    'max_depth' : [i for i in range(5,14)]\n",
    "}\n",
    "tscv = TimeSeriesSplit(n_splits=10)\n",
    "gsearch = GridSearchCV(estimator=model, cv=tscv, param_grid=param_search, scoring = rmse_score)\n",
    "gsearch.fit(X_train, y_train)\n",
    "best_score = gsearch.best_score_\n",
    "best_model = gsearch.best_estimator_\n",
    "\n",
    "#Prediction\n",
    "y_true = y_test.values\n",
    "y_pred = best_model.predict(X_test)\n",
    "\n",
    "#Score comparison\n",
    "regression_results(y_true, y_pred)"
   ]
  },
  {
   "cell_type": "code",
   "execution_count": 180,
   "metadata": {},
   "outputs": [],
   "source": [
    "#Correlation\n",
    "# plt.scatter(w['2018-07-20']['temp_location3'],w['2018-07-20']['solar_location3'])\n",
    "# plt.scatter(w_forecast['2018-07-20']['temp_location6'],pv['2018-07-20']['pv_power_mw'])"
   ]
  },
  {
   "cell_type": "code",
   "execution_count": 384,
   "metadata": {},
   "outputs": [
    {
     "data": {
      "image/png": "[encoded data removed]",
      "text/plain": [
       "<Figure size 432x288 with 1 Axes>"
      ]
     },
     "metadata": {
      "needs_background": "light"
     },
     "output_type": "display_data"
    }
   ],
   "source": [
    "#Feature importance\n",
    "imp = best_model.feature_importances_\n",
    "features = X_train.columns\n",
    "indices = np.argsort(imp)\n",
    "\n",
    "import matplotlib.pyplot as plt\n",
    "plt.title('Feature Importances')\n",
    "plt.barh(range(len(indices)), imp[indices], color='b', align='center')\n",
    "plt.yticks(range(len(indices)), [features[i] for i in indices])\n",
    "plt.xlabel('Relative Importance')\n",
    "plt.show()"
   ]
  },
  {
   "cell_type": "code",
   "execution_count": 491,
   "metadata": {},
   "outputs": [],
   "source": [
    "#Interpolate weather data to match demand timestep\n",
    "even_ = np.array(list(range(len(demand_prediction)))[0::2])\n",
    "odd_ = np.array(list(range(len(demand_prediction)))[1::2])\n",
    "temp_index = demand_prediction.index\n",
    "\n",
    "pv_forecast_ = w['2018-10-16':]\n",
    "pv_forecast_.index = even_\n",
    "\n",
    "\n",
    "df_c_ = pd.DataFrame(pv_forecast_.iloc[0]).T\n",
    "\n",
    "for i in range(len(pv_forecast_)-1):\n",
    "    if(i == len(pv_forecast_)-1):\n",
    "        df_ = pd.DataFrame((pv_forecast_.iloc[i])).T\n",
    "    else:   \n",
    "        df_ = pd.DataFrame((pv_forecast_.iloc[i] + pv_forecast_.iloc[i+1])/2).T\n",
    "        df_.columns = pv_forecast_.columns\n",
    "    df_c_ = pd.concat([df_c_,df_])\n",
    "\n",
    "df_c_.index = odd_ \n",
    "#Remove first row\n",
    "df_c_ = df_c_.drop(df_c_.index[0])   \n",
    "#Project an extra half hour\n",
    "df_c_ = pd.concat([df_c_,0.95*pd.DataFrame(pv_forecast_.iloc[-1]).T])\n",
    "df_c_.index = odd_   \n",
    "w_forecast_ = pd.concat([pv_forecast_,df_c_]).sort_index()\n",
    "w_forecast_.index = temp_index"
   ]
  },
  {
   "cell_type": "code",
   "execution_count": 503,
   "metadata": {},
   "outputs": [],
   "source": [
    "#Solar prediction\n",
    "w_other = pd.DataFrame()\n",
    "w_other['month'] = w_forecast_.index.month\n",
    "w_other['year'] = w_forecast_.index.year\n",
    "w_other['weekday'] = w_forecast_.index.weekday\n",
    "tod = pd.Series([(w_forecast_.index[i].hour*60 + w_forecast_.index[i].minute)/30 for i in range(len(w_forecast_.index))])\n",
    "w_other.loc[:,'tod'] = tod\n",
    "w_other.loc[:,'quarter']  = w_forecast_.index.quarter\n",
    "w_other['week'] = w_forecast_.index.week\n",
    "#combine pv with weather data, then interpolate data\n",
    "s_sum = (w_forecast_['solar_location3'] + w_forecast_['solar_location1'] + \n",
    "                          w_forecast_['solar_location2'] + w_forecast_['solar_location4'] + \n",
    "                          w_forecast_['solar_location6'] + w_forecast_['solar_location5'])\n",
    "t_sum = (w_forecast_['temp_location3'] + w_forecast_['temp_location1'] + \n",
    "                          w_forecast_['temp_location2'] + w_forecast_['temp_location4'] + \n",
    "                          w_forecast_['temp_location6'] + w_forecast_['temp_location5'])\n",
    "s_sum.index = tod.index\n",
    "t_sum.index = tod.index\n",
    "w_other.loc[:,'s_sum'] = s_sum\n",
    "w_other.loc[:,'t_sum'] = t_sum\n",
    "\n",
    "\n",
    "\n",
    "w_other.index = w_forecast_.index\n",
    "w_other_ = pd.concat([w_other,w_forecast_],axis=1)"
   ]
  },
  {
   "cell_type": "code",
   "execution_count": 502,
   "metadata": {},
   "outputs": [],
   "source": [
    "#Predict solar out and save to Excel sheet\n",
    "result = pd.DataFrame(best_model.predict(w_other_))\n",
    "result.index = w_forecast_.index\n",
    "result.to_excel('week1-pv.xlsx')"
   ]
  },
  {
   "cell_type": "code",
   "execution_count": null,
   "metadata": {},
   "outputs": [],
   "source": []
  },
  {
   "cell_type": "code",
   "execution_count": null,
   "metadata": {},
   "outputs": [],
   "source": []
  },
  {
   "cell_type": "code",
   "execution_count": 113,
   "metadata": {},
   "outputs": [],
   "source": [
    "### Testing model accuracy with new data\n",
    "\n",
    "PV = pd.read_csv('week1/pv_train_set1.csv', index_col =False, header=None)\n",
    "pv = PV\n",
    "pv.columns = pv.iloc[0].astype(str)\n",
    "pv = pv.drop(0)\n",
    "pv[\"datetime\"] = pd.to_datetime(pv[\"datetime\"])\n",
    "pv = pv.set_index('datetime')\n",
    "pv = pv.astype('float64')\n",
    "\n",
    "data = pd.DataFrame(x_)\n",
    "data.index = solar_prediction.index[1:]"
   ]
  },
  {
   "cell_type": "code",
   "execution_count": 117,
   "metadata": {},
   "outputs": [],
   "source": [
    "# regression_results(pv['2018-07-24']['pv_power_mw'], data['2018-07-24'])"
   ]
  },
  {
   "cell_type": "code",
   "execution_count": 76,
   "metadata": {},
   "outputs": [
    {
     "data": {
      "text/plain": [
       "0    0.013774\n",
       "0    0.868691\n",
       "0    1.723608\n",
       "Name: 15, dtype: float64"
      ]
     },
     "execution_count": 76,
     "metadata": {},
     "output_type": "execute_result"
    }
   ],
   "source": [
    "# #Confidence interval\n",
    "# stdev = np.sqrt(sum((best_model.predict(X_train) - y_train)**2) / (len(y_train) - 2))\n",
    "# # (prediction - 1.96*stdev, prediction + 1.96*stdev)\n",
    "stdev = np.sqrt(sum((best_model.predict(X_train) - y_train)**2) / (len(y_train) - 2))\n",
    "x_low = pd.DataFrame(x_ - 1.96*stdev)\n",
    "x_high = pd.DataFrame(x_ + 1.96*stdev)\n",
    "x_mean = pd.DataFrame(x_)\n",
    "pd.concat([x_low,x_mean,x_high],axis=1).iloc[15]"
   ]
  },
  {
   "cell_type": "code",
   "execution_count": 29,
   "metadata": {},
   "outputs": [],
   "source": [
    "from pyomo.environ import *\n",
    "from pyomo.opt import SolverFactory\n",
    "model = ConcreteModel()\n",
    "\n",
    "days = 7\n",
    "period = 48\n",
    "\n",
    "#Charging profile\n",
    "Bmin = -2.5\n",
    "Bmax = 2.5\n",
    "Cmax = 6\n",
    "\n",
    "#Other important variables (energy demand, solar pv)\n",
    "solar = pv['pv_power_mw']['2018-07-03']\n",
    "e_demand = d['demand_MW']['2018-07-03']\n",
    "\n",
    "#Define model, opt variables\n",
    "model.IDX1 = range(days)\n",
    "model.IDX2 = range(period)\n",
    "model.B = Var(model.IDX1,model.IDX2,within=Reals)\n",
    "model.C = Var(model.IDX1,model.IDX2,within = NonNegativeReals)\n",
    "model.grid = Var(model.IDX1,model.IDX2,within = NonNegativeReals)\n",
    "\n",
    "#Define constraints\n",
    "model.c = ConstraintList()\n",
    "\n",
    "#Begin everyday with zero charge\n",
    "for i in model.IDX1:\n",
    "    model.c.add(expr = model.C[i,0] == 0)\n",
    "    \n",
    "    #Battery charging progression\n",
    "    for j in model.IDX2:\n",
    "    # Constraints\n",
    "    model.c.add(expr = model.grid[i,j] >= 0)\n",
    "    model.c.add(expr = model.B[i,j] <= Bmax)\n",
    "    model.c.add(expr = model.B[i,j] >= Bmin)\n",
    "    model.c.add(expr = model.C[i,j] >= 0)\n",
    "    model.c.add(expr = model.C[i,j] <= Cmax)   \n",
    "    #When to charge\n",
    "    if((i < 31)):\n",
    "        model.c.add(expr = model.B[i,j] >= 0)\n",
    "        model.c.add(expr = model.B[i,j] ==  model.grid[i,j] + np.float64(solar[i,j]))\n",
    "    \n",
    "    else:\n",
    "        model.c.add(expr = model.B[i,j] <= 0)\n",
    "        model.c.add(expr = model.grid[i,j] ==  0)\n",
    "        if (i >= (period-1)):\n",
    "            continue\n",
    "        model.c.add(expr = model.C[i,j+1] == model.C[i,j] + np.float64(0.5)*model.B[i,j])\n",
    "\n",
    "\n",
    "model.cost = Objective(\n",
    "        expr = sum([e_demand[i][31:42] for i in model.IDX1]) + sum([(model.B[i,j] for i in range(31,42)) for i in model.IDX1]) + (sum([[model.grid[i,j] for j in range(31)] for i in model.IDX1])) \n",
    ")\n",
    "\n",
    "\n",
    "# solve\n",
    "SolverFactory('gurobi_direct').solve(model)#.write()\n",
    "# SolverFactory('ipopt').solve(model)#.write()\n",
    "# SolverFactory('mosek').solve(model)\n",
    "\n",
    "#Print results\n",
    "print('Cost = ',model.cost())"
   ]
  },
  {
   "cell_type": "code",
   "execution_count": null,
   "metadata": {},
   "outputs": [],
   "source": [
    "##Optimization problem\n",
    "# import pyomo.environ as pyo\n",
    "from pyomo.environ import *\n",
    "from pyomo.opt import SolverFactory\n",
    "model = ConcreteModel()\n",
    "\n",
    "days = 7\n",
    "period = 48\n",
    "\n",
    "#Charging profile\n",
    "Bmin = -2.5\n",
    "Bmax = 2.5\n",
    "Cmax = 6\n",
    "\n",
    "#Other important variables\n",
    "solar = pv['pv_power_mw']['2018-07-03']\n",
    "e_demand = d['demand_MW']['2018-07-03']\n",
    "\n",
    "#Define model, opt variables\n",
    "model.IDX1 = range(days)\n",
    "model.IDX2 = range(period)\n",
    "# model.IDX2 = RangeSet(0, 4)\n",
    "model.B = Var(model.IDX2,within=Reals)\n",
    "model.C = Var(model.IDX2,within = NonNegativeReals)\n",
    "model.grid = Var(model.IDX2,within = NonNegativeReals)\n",
    "\n",
    "#Define constraints\n",
    "model.c = ConstraintList()\n",
    "\n",
    "#Begin day with zero charge\n",
    "model.c.add(expr = model.C[0] == 0)\n",
    "\n",
    "#Battery charging progression\n",
    "for i in range(period):\n",
    "    if(i >= (period-1)):\n",
    "        continue\n",
    "    model.c.add(expr = model.C[i+1] == model.C[i] + np.float64(0.5)*model.B[i])\n",
    "    \n",
    "\n",
    "for i in model.IDX2:\n",
    "    # Constraints\n",
    "    model.c.add(expr = model.grid[i] >= 0)\n",
    "    model.c.add(expr = model.B[i] <= Bmax)\n",
    "    model.c.add(expr = model.B[i] >= Bmin)\n",
    "    model.c.add(expr = model.C[i] >= 0)\n",
    "    model.c.add(expr = model.C[i] <= Cmax)\n",
    "    \n",
    "    \n",
    "    #When to charge\n",
    "    if((i < 31)):\n",
    "        model.c.add(expr = model.B[i] >= 0)\n",
    "        model.c.add(expr = model.B[i] ==  model.grid[i] + np.float64(solar[i]))\n",
    "    \n",
    "    else:\n",
    "        model.c.add(expr = model.B[i] <= 0)\n",
    "        model.c.add(expr = model.grid[i] ==  0)\n",
    "\n",
    "terms = 8\n",
    "model.cost = Objective(\n",
    "        expr = sum(e_demand[31:42]) + sum((model.B[i] for i in range(31,42))) + sum([model.grid[i] for i in range(31)])\n",
    ")\n",
    "\n",
    "\n",
    "# model.cost_ = Objective(\n",
    "#         expr = sum(solar[:31])/sum([model.B[i] for i in range(31)])\n",
    "# )\n",
    "\n",
    "# model.cost = Objective(\n",
    "#         expr =  sum( [(-1)**n*(sum([model.B[i] for i in range(31)]) - 1)**n for n in range(terms)])\n",
    "# )\n",
    "# model.cost = Objective(\n",
    "#         expr = log(sum([model.B[i] for i in range(31)])), sense = maximize\n",
    "# )\n",
    "\n",
    "# solve\n",
    "# SolverFactory('gurobi_direct').solve(model)#.write()\n",
    "SolverFactory('ipopt').solve(model)#.write()\n",
    "# SolverFactory('mosek').solve(model)\n",
    "\n",
    "#Print results\n",
    "print('Cost = ',model.cost())"
   ]
  },
  {
   "cell_type": "code",
   "execution_count": 43,
   "metadata": {},
   "outputs": [
    {
     "data": {
      "text/plain": [
       "1.0686498900267654"
      ]
     },
     "execution_count": 43,
     "metadata": {},
     "output_type": "execute_result"
    }
   ],
   "source": [
    "sum(solar[:31])/sum((model.B[i].value for i in range(31)))"
   ]
  },
  {
   "cell_type": "code",
   "execution_count": 45,
   "metadata": {},
   "outputs": [
    {
     "data": {
      "text/plain": [
       "2.46126258346752e-10"
      ]
     },
     "execution_count": 45,
     "metadata": {},
     "output_type": "execute_result"
    }
   ],
   "source": [
    "# np.array(solar[:31])\n",
    "# np.array([model.B[i].value for i in range(31)])\n",
    "# np.array([model.C[i].value for i in range(48)])\n",
    "# e_demand[31:42]\n",
    "# [model.grid[i].value for i in model.IDX2]\n",
    "sum_ = 0\n",
    "for i in range(31):\n",
    "    if(model.B[i].value >= solar[i]):\n",
    "        sum_ = sum_ + model.B[i].value-solar[i]\n",
    "sum_/sum([model.B[i].value for i in range(31)])"
   ]
  }
 ],
 "metadata": {
  "kernelspec": {
   "display_name": "Python 3",
   "language": "python",
   "name": "python3"
  },
  "language_info": {
   "codemirror_mode": {
    "name": "ipython",
    "version": 3
   },
   "file_extension": ".py",
   "mimetype": "text/x-python",
   "name": "python",
   "nbconvert_exporter": "python",
   "pygments_lexer": "ipython3",
   "version": "3.8.5"
  }
 },
 "nbformat": 4,
 "nbformat_minor": 2
}
